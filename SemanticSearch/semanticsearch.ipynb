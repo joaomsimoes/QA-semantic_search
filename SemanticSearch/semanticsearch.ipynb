{
 "cells": [
  {
   "cell_type": "markdown",
   "source": [
    "## Testing the best model"
   ],
   "metadata": {
    "collapsed": false
   }
  },
  {
   "cell_type": "code",
   "execution_count": null,
   "outputs": [],
   "source": [
    "corpus = [\n",
    "    'A mining pool is a joint group of cryptocurrency miners who combine their computational resources over a network to strengthen the probability of finding a block or otherwise successfully mining for cryptocurrency.',\n",
    "    'Individually, participants in a mining pool contribute their processing power toward the effort of finding a block. If the pool is successful in these efforts, they receive a reward, typically in the form of the associated cryptocurrency.',\n",
    "    'Mining is the process of extracting useful materials from the earth. Some examples of substances that are mined include coal, gold, or iron ore. Iron ore is the material from which the metal iron is produced.',\n",
    "    'A cryptocurrency is a digital or virtual currency that is secured by cryptography, which makes it nearly impossible to counterfeit or double-spend.',\n",
    "    'Bitcoin, which was made available to the public in 2009, remains the most widely-traded coin',\n",
    "    'The best crypto credit cards',\n",
    "    'Best Crypto & Blockchain Right Now',\n",
    "    'There is no single best cryptocurrency, but there are best cryptocurrencies for certain use cases. For example, Bitcoin is the best cryptocurrency to use as a reserve asset because it has the most widespread adoption and a finite supply.',\n",
    "    'The best cryptocurrency exchanges are those that offer secure, easy-to-use platforms, with high trading volumes, and on which customers can trade multiple cryptos and pay in multiple payment options.',\n",
    "    'Another one of the easiest cryptocurrencies to mine is Vertcoin.',\n",
    "    'In 2021, Litecoin is still considered one of the best cryptocurrencies, despite the strong competition.',\n",
    "    'The best cryptocurrency to buy right now in 2021 is Ethereum.',\n",
    "    'Following are some of the best cryptocurrencies to Mine with GPU:',\n",
    "    'It’s valuable the same way Bitcoin is valuable but in a more personable and practical way that involves more humans and less computer machines. ',\n",
    "    'So I personally think Bitcoin is valuable as a measure of value, but it’s not very effective in terms of a cryptocurrency. There has been many better versions created which process faster, are more affordable to transfer, and are safer. ',\n",
    "    'First and foremost, Bitcoin has value due to the same reason the paper and digital cash does – it’s a handy form of money commonly accepted by people. It is used to transfer value and buy or sell things. Yet, unlike the US dollars, whose value and legal status are enforced by the government, Bitcoin’s value comes from its code, infrastructure, scarcity, and adoption.'\n",
    "]\n",
    "\n",
    "# Query sentences:\n",
    "queries = ['what is mining pool', 'what is the best cryptocurrency', 'which crypto is worth the investment?', 'best way to mine minerals', 'what makes bitcoin valuable']"
   ],
   "metadata": {
    "collapsed": false,
    "pycharm": {
     "name": "#%%\n"
    }
   }
  },
  {
   "cell_type": "code",
   "execution_count": 1,
   "outputs": [],
   "source": [
    "from torch import nn\n",
    "from sentence_transformers import SentenceTransformer, models, util"
   ],
   "metadata": {
    "collapsed": false,
    "pycharm": {
     "name": "#%%\n"
    }
   }
  },
  {
   "cell_type": "markdown",
   "source": [
    "### CryptoBERT"
   ],
   "metadata": {
    "collapsed": false
   }
  },
  {
   "cell_type": "code",
   "execution_count": null,
   "outputs": [],
   "source": [
    "word_embedding_model = models.Transformer('./CryptoBERT', max_seq_length=512)\n",
    "pooling_model = models.Pooling(word_embedding_model.get_word_embedding_dimension())\n",
    "dense_model = models.Dense(in_features=pooling_model.get_sentence_embedding_dimension(), out_features=768, activation_function=nn.Tanh())\n",
    "\n",
    "embedder = SentenceTransformer(modules=[word_embedding_model, pooling_model, dense_model])\n",
    "\n",
    "#Encode all sentences\n",
    "corpus_embeddings = embedder.encode(corpus)\n",
    "\n",
    "# Find the closest 5 sentences of the corpus for each query sentence based on cosine similarity\n",
    "top_k = min(5, len(corpus))\n",
    "for query in queries:\n",
    "    query_embedding = embedder.encode(query, convert_to_tensor=True)\n",
    "\n",
    "    hits = util.semantic_search(query_embedding, corpus_embeddings, top_k=5)\n",
    "    hits = hits[0]      #Get the hits for the first query\n",
    "\n",
    "    print(\"\\n\\n======================\\n\\n\")\n",
    "    print(\"Query:\", query, \"\\n\")\n",
    "\n",
    "    for hit in hits:\n",
    "        print(corpus[hit['corpus_id']], \"(Score: {:.4f})\".format(hit['score']))"
   ],
   "metadata": {
    "collapsed": false,
    "pycharm": {
     "name": "#%%\n"
    }
   }
  },
  {
   "cell_type": "markdown",
   "source": [
    "### BERT Finetune"
   ],
   "metadata": {
    "collapsed": false
   }
  },
  {
   "cell_type": "code",
   "execution_count": null,
   "outputs": [],
   "source": [
    "word_embedding_model = models.Transformer('./bert-base-uncased', max_seq_length=512)\n",
    "pooling_model = models.Pooling(word_embedding_model.get_word_embedding_dimension())\n",
    "dense_model = models.Dense(in_features=pooling_model.get_sentence_embedding_dimension(), out_features=768, activation_function=nn.Tanh())\n",
    "\n",
    "embedder = SentenceTransformer(modules=[word_embedding_model, pooling_model, dense_model])\n",
    "\n",
    "#Encode all sentences\n",
    "corpus_embeddings = embedder.encode(corpus)\n",
    "\n",
    "# Find the closest 5 sentences of the corpus for each query sentence based on cosine similarity\n",
    "top_k = min(5, len(corpus))\n",
    "for query in queries:\n",
    "    query_embedding = embedder.encode(query, convert_to_tensor=True)\n",
    "\n",
    "    hits = util.semantic_search(query_embedding, corpus_embeddings, top_k=5)\n",
    "    hits = hits[0]      #Get the hits for the first query\n",
    "\n",
    "    print(\"\\n\\n======================\\n\\n\")\n",
    "    print(\"Query:\", query, \"\\n\")\n",
    "\n",
    "    for hit in hits:\n",
    "        print(corpus[hit['corpus_id']], \"(Score: {:.4f})\".format(hit['score']))"
   ],
   "metadata": {
    "collapsed": false,
    "pycharm": {
     "name": "#%%\n"
    }
   }
  },
  {
   "cell_type": "markdown",
   "source": [
    "### MSMarco"
   ],
   "metadata": {
    "collapsed": false
   }
  },
  {
   "cell_type": "code",
   "execution_count": null,
   "outputs": [],
   "source": [
    "embedder = SentenceTransformer('./msmarco/msmarco-distilbert-dot-v5')\n",
    "\n",
    "#Encode all sentences\n",
    "corpus_embeddings = embedder.encode(corpus)\n",
    "\n",
    "# Find the closest 5 sentences of the corpus for each query sentence based on cosine similarity\n",
    "top_k = min(5, len(corpus))\n",
    "for query in queries:\n",
    "    query_embedding = embedder.encode(query, convert_to_tensor=True)\n",
    "\n",
    "    hits = util.semantic_search(query_embedding, corpus_embeddings, top_k=5)\n",
    "    hits = hits[0]      #Get the hits for the first query\n",
    "\n",
    "    print(\"\\n\\n======================\\n\\n\")\n",
    "    print(\"Query:\", query, \"\\n\")\n",
    "\n",
    "    for hit in hits:\n",
    "        print(corpus[hit['corpus_id']], \"(Score: {:.4f})\".format(hit['score']))"
   ],
   "metadata": {
    "collapsed": false,
    "pycharm": {
     "name": "#%%\n"
    }
   }
  },
  {
   "cell_type": "markdown",
   "source": [
    "## Data cleaning and preparation"
   ],
   "metadata": {
    "collapsed": false,
    "pycharm": {
     "name": "#%% md\n"
    }
   }
  },
  {
   "cell_type": "code",
   "execution_count": 4,
   "outputs": [
    {
     "data": {
      "text/plain": "            id                                               text  \\\n0            1  Come join the Gemini team and help us build th...   \n1            2  Answers to FAQs and how to contact our best-in...   \n2            3  Gemini product announcements, company updates,...   \n3            4  View webinars, Twitter Q&As, and more on crypt...   \n4            5  A platform designed to provide free, high-qual...   \n...        ...                                                ...   \n259040  313015  Providing price insurance on important level o...   \n259041  313016  Creation of separate trading market ecosystem ...   \n259042  313017  We minimize spread up to 1% and less. As a res...   \n259043  313018  We increase density of order book and use maxi...   \n259044  313019  Present Holders and new investors will positiv...   \n\n                                                    link  \n0                                https://www.gemini.com/  \n1                                https://www.gemini.com/  \n2                                https://www.gemini.com/  \n3                                https://www.gemini.com/  \n4                                https://www.gemini.com/  \n...                                                  ...  \n259040  https://en.bitcoinwiki.org//wiki/Smart_Liquidity  \n259041  https://en.bitcoinwiki.org//wiki/Smart_Liquidity  \n259042  https://en.bitcoinwiki.org//wiki/Smart_Liquidity  \n259043  https://en.bitcoinwiki.org//wiki/Smart_Liquidity  \n259044  https://en.bitcoinwiki.org//wiki/Smart_Liquidity  \n\n[259045 rows x 3 columns]",
      "text/html": "<div>\n<style scoped>\n    .dataframe tbody tr th:only-of-type {\n        vertical-align: middle;\n    }\n\n    .dataframe tbody tr th {\n        vertical-align: top;\n    }\n\n    .dataframe thead th {\n        text-align: right;\n    }\n</style>\n<table border=\"1\" class=\"dataframe\">\n  <thead>\n    <tr style=\"text-align: right;\">\n      <th></th>\n      <th>id</th>\n      <th>text</th>\n      <th>link</th>\n    </tr>\n  </thead>\n  <tbody>\n    <tr>\n      <th>0</th>\n      <td>1</td>\n      <td>Come join the Gemini team and help us build th...</td>\n      <td>https://www.gemini.com/</td>\n    </tr>\n    <tr>\n      <th>1</th>\n      <td>2</td>\n      <td>Answers to FAQs and how to contact our best-in...</td>\n      <td>https://www.gemini.com/</td>\n    </tr>\n    <tr>\n      <th>2</th>\n      <td>3</td>\n      <td>Gemini product announcements, company updates,...</td>\n      <td>https://www.gemini.com/</td>\n    </tr>\n    <tr>\n      <th>3</th>\n      <td>4</td>\n      <td>View webinars, Twitter Q&amp;As, and more on crypt...</td>\n      <td>https://www.gemini.com/</td>\n    </tr>\n    <tr>\n      <th>4</th>\n      <td>5</td>\n      <td>A platform designed to provide free, high-qual...</td>\n      <td>https://www.gemini.com/</td>\n    </tr>\n    <tr>\n      <th>...</th>\n      <td>...</td>\n      <td>...</td>\n      <td>...</td>\n    </tr>\n    <tr>\n      <th>259040</th>\n      <td>313015</td>\n      <td>Providing price insurance on important level o...</td>\n      <td>https://en.bitcoinwiki.org//wiki/Smart_Liquidity</td>\n    </tr>\n    <tr>\n      <th>259041</th>\n      <td>313016</td>\n      <td>Creation of separate trading market ecosystem ...</td>\n      <td>https://en.bitcoinwiki.org//wiki/Smart_Liquidity</td>\n    </tr>\n    <tr>\n      <th>259042</th>\n      <td>313017</td>\n      <td>We minimize spread up to 1% and less. As a res...</td>\n      <td>https://en.bitcoinwiki.org//wiki/Smart_Liquidity</td>\n    </tr>\n    <tr>\n      <th>259043</th>\n      <td>313018</td>\n      <td>We increase density of order book and use maxi...</td>\n      <td>https://en.bitcoinwiki.org//wiki/Smart_Liquidity</td>\n    </tr>\n    <tr>\n      <th>259044</th>\n      <td>313019</td>\n      <td>Present Holders and new investors will positiv...</td>\n      <td>https://en.bitcoinwiki.org//wiki/Smart_Liquidity</td>\n    </tr>\n  </tbody>\n</table>\n<p>259045 rows × 3 columns</p>\n</div>"
     },
     "execution_count": 4,
     "metadata": {},
     "output_type": "execute_result"
    }
   ],
   "source": [
    "from db.conn_db import *\n",
    "import pandas as pd\n",
    "\n",
    "f = open(\"db.json\")\n",
    "data = json.load(f)\n",
    "\n",
    "corpus = pd.read_sql_table('index', data['connection'] + 'hnsw')\n",
    "corpus"
   ],
   "metadata": {
    "collapsed": false,
    "pycharm": {
     "name": "#%%\n"
    }
   }
  },
  {
   "cell_type": "code",
   "execution_count": 5,
   "outputs": [
    {
     "data": {
      "text/plain": "            id                                               text  \\\n0            1  Come join the Gemini team and help us build th...   \n1            2  Answers to FAQs and how to contact our best-in...   \n2            3  Gemini product announcements, company updates,...   \n3            4  View webinars, Twitter Q&As, and more on crypt...   \n4            5  A platform designed to provide free, high-qual...   \n...        ...                                                ...   \n104115  313015  Providing price insurance on important level o...   \n104116  313016  Creation of separate trading market ecosystem ...   \n104117  313017  We minimize spread up to 1% and less. As a res...   \n104118  313018  We increase density of order book and use maxi...   \n104119  313019  Present Holders and new investors will positiv...   \n\n                                                    link  \n0                                https://www.gemini.com/  \n1                                https://www.gemini.com/  \n2                                https://www.gemini.com/  \n3                                https://www.gemini.com/  \n4                                https://www.gemini.com/  \n...                                                  ...  \n104115  https://en.bitcoinwiki.org//wiki/Smart_Liquidity  \n104116  https://en.bitcoinwiki.org//wiki/Smart_Liquidity  \n104117  https://en.bitcoinwiki.org//wiki/Smart_Liquidity  \n104118  https://en.bitcoinwiki.org//wiki/Smart_Liquidity  \n104119  https://en.bitcoinwiki.org//wiki/Smart_Liquidity  \n\n[104120 rows x 3 columns]",
      "text/html": "<div>\n<style scoped>\n    .dataframe tbody tr th:only-of-type {\n        vertical-align: middle;\n    }\n\n    .dataframe tbody tr th {\n        vertical-align: top;\n    }\n\n    .dataframe thead th {\n        text-align: right;\n    }\n</style>\n<table border=\"1\" class=\"dataframe\">\n  <thead>\n    <tr style=\"text-align: right;\">\n      <th></th>\n      <th>id</th>\n      <th>text</th>\n      <th>link</th>\n    </tr>\n  </thead>\n  <tbody>\n    <tr>\n      <th>0</th>\n      <td>1</td>\n      <td>Come join the Gemini team and help us build th...</td>\n      <td>https://www.gemini.com/</td>\n    </tr>\n    <tr>\n      <th>1</th>\n      <td>2</td>\n      <td>Answers to FAQs and how to contact our best-in...</td>\n      <td>https://www.gemini.com/</td>\n    </tr>\n    <tr>\n      <th>2</th>\n      <td>3</td>\n      <td>Gemini product announcements, company updates,...</td>\n      <td>https://www.gemini.com/</td>\n    </tr>\n    <tr>\n      <th>3</th>\n      <td>4</td>\n      <td>View webinars, Twitter Q&amp;As, and more on crypt...</td>\n      <td>https://www.gemini.com/</td>\n    </tr>\n    <tr>\n      <th>4</th>\n      <td>5</td>\n      <td>A platform designed to provide free, high-qual...</td>\n      <td>https://www.gemini.com/</td>\n    </tr>\n    <tr>\n      <th>...</th>\n      <td>...</td>\n      <td>...</td>\n      <td>...</td>\n    </tr>\n    <tr>\n      <th>104115</th>\n      <td>313015</td>\n      <td>Providing price insurance on important level o...</td>\n      <td>https://en.bitcoinwiki.org//wiki/Smart_Liquidity</td>\n    </tr>\n    <tr>\n      <th>104116</th>\n      <td>313016</td>\n      <td>Creation of separate trading market ecosystem ...</td>\n      <td>https://en.bitcoinwiki.org//wiki/Smart_Liquidity</td>\n    </tr>\n    <tr>\n      <th>104117</th>\n      <td>313017</td>\n      <td>We minimize spread up to 1% and less. As a res...</td>\n      <td>https://en.bitcoinwiki.org//wiki/Smart_Liquidity</td>\n    </tr>\n    <tr>\n      <th>104118</th>\n      <td>313018</td>\n      <td>We increase density of order book and use maxi...</td>\n      <td>https://en.bitcoinwiki.org//wiki/Smart_Liquidity</td>\n    </tr>\n    <tr>\n      <th>104119</th>\n      <td>313019</td>\n      <td>Present Holders and new investors will positiv...</td>\n      <td>https://en.bitcoinwiki.org//wiki/Smart_Liquidity</td>\n    </tr>\n  </tbody>\n</table>\n<p>104120 rows × 3 columns</p>\n</div>"
     },
     "execution_count": 5,
     "metadata": {},
     "output_type": "execute_result"
    }
   ],
   "source": [
    "corpus = corpus.drop_duplicates(subset=['text'])\n",
    "corpus.reset_index(level=0, inplace=True)\n",
    "corpus = corpus.iloc[:,1:]\n",
    "corpus"
   ],
   "metadata": {
    "collapsed": false,
    "pycharm": {
     "name": "#%%\n"
    }
   }
  },
  {
   "cell_type": "code",
   "execution_count": 6,
   "outputs": [],
   "source": [
    "def clean(text):\n",
    "    text = text.replace('\\n', '')\n",
    "    text = text.replace('\\t', '')\n",
    "\n",
    "    return text"
   ],
   "metadata": {
    "collapsed": false,
    "pycharm": {
     "name": "#%%\n"
    }
   }
  },
  {
   "cell_type": "code",
   "execution_count": 7,
   "outputs": [
    {
     "data": {
      "text/plain": "            id                                               text  \\\n0            0  Come join the Gemini team and help us build th...   \n1            1  Answers to FAQs and how to contact our best-in...   \n2            2  Gemini product announcements, company updates,...   \n3            3  View webinars, Twitter Q&As, and more on crypt...   \n4            4  A platform designed to provide free, high-qual...   \n...        ...                                                ...   \n104115  104115  Providing price insurance on important level o...   \n104116  104116  Creation of separate trading market ecosystem ...   \n104117  104117  We minimize spread up to 1% and less. As a res...   \n104118  104118  We increase density of order book and use maxi...   \n104119  104119  Present Holders and new investors will positiv...   \n\n                                                    link  \n0                                https://www.gemini.com/  \n1                                https://www.gemini.com/  \n2                                https://www.gemini.com/  \n3                                https://www.gemini.com/  \n4                                https://www.gemini.com/  \n...                                                  ...  \n104115  https://en.bitcoinwiki.org//wiki/Smart_Liquidity  \n104116  https://en.bitcoinwiki.org//wiki/Smart_Liquidity  \n104117  https://en.bitcoinwiki.org//wiki/Smart_Liquidity  \n104118  https://en.bitcoinwiki.org//wiki/Smart_Liquidity  \n104119  https://en.bitcoinwiki.org//wiki/Smart_Liquidity  \n\n[104120 rows x 3 columns]",
      "text/html": "<div>\n<style scoped>\n    .dataframe tbody tr th:only-of-type {\n        vertical-align: middle;\n    }\n\n    .dataframe tbody tr th {\n        vertical-align: top;\n    }\n\n    .dataframe thead th {\n        text-align: right;\n    }\n</style>\n<table border=\"1\" class=\"dataframe\">\n  <thead>\n    <tr style=\"text-align: right;\">\n      <th></th>\n      <th>id</th>\n      <th>text</th>\n      <th>link</th>\n    </tr>\n  </thead>\n  <tbody>\n    <tr>\n      <th>0</th>\n      <td>0</td>\n      <td>Come join the Gemini team and help us build th...</td>\n      <td>https://www.gemini.com/</td>\n    </tr>\n    <tr>\n      <th>1</th>\n      <td>1</td>\n      <td>Answers to FAQs and how to contact our best-in...</td>\n      <td>https://www.gemini.com/</td>\n    </tr>\n    <tr>\n      <th>2</th>\n      <td>2</td>\n      <td>Gemini product announcements, company updates,...</td>\n      <td>https://www.gemini.com/</td>\n    </tr>\n    <tr>\n      <th>3</th>\n      <td>3</td>\n      <td>View webinars, Twitter Q&amp;As, and more on crypt...</td>\n      <td>https://www.gemini.com/</td>\n    </tr>\n    <tr>\n      <th>4</th>\n      <td>4</td>\n      <td>A platform designed to provide free, high-qual...</td>\n      <td>https://www.gemini.com/</td>\n    </tr>\n    <tr>\n      <th>...</th>\n      <td>...</td>\n      <td>...</td>\n      <td>...</td>\n    </tr>\n    <tr>\n      <th>104115</th>\n      <td>104115</td>\n      <td>Providing price insurance on important level o...</td>\n      <td>https://en.bitcoinwiki.org//wiki/Smart_Liquidity</td>\n    </tr>\n    <tr>\n      <th>104116</th>\n      <td>104116</td>\n      <td>Creation of separate trading market ecosystem ...</td>\n      <td>https://en.bitcoinwiki.org//wiki/Smart_Liquidity</td>\n    </tr>\n    <tr>\n      <th>104117</th>\n      <td>104117</td>\n      <td>We minimize spread up to 1% and less. As a res...</td>\n      <td>https://en.bitcoinwiki.org//wiki/Smart_Liquidity</td>\n    </tr>\n    <tr>\n      <th>104118</th>\n      <td>104118</td>\n      <td>We increase density of order book and use maxi...</td>\n      <td>https://en.bitcoinwiki.org//wiki/Smart_Liquidity</td>\n    </tr>\n    <tr>\n      <th>104119</th>\n      <td>104119</td>\n      <td>Present Holders and new investors will positiv...</td>\n      <td>https://en.bitcoinwiki.org//wiki/Smart_Liquidity</td>\n    </tr>\n  </tbody>\n</table>\n<p>104120 rows × 3 columns</p>\n</div>"
     },
     "execution_count": 7,
     "metadata": {},
     "output_type": "execute_result"
    }
   ],
   "source": [
    "corpus['text'] = corpus['text'].map(clean)\n",
    "corpus['id'] = corpus.index\n",
    "corpus"
   ],
   "metadata": {
    "collapsed": false,
    "pycharm": {
     "name": "#%%\n"
    }
   }
  },
  {
   "cell_type": "code",
   "execution_count": 9,
   "outputs": [],
   "source": [
    "corpus.to_sql(name='hnsw_index', con=db_connection('hnsw'), index=False, chunksize=500)"
   ],
   "metadata": {
    "collapsed": false,
    "pycharm": {
     "name": "#%%\n"
    }
   }
  },
  {
   "cell_type": "markdown",
   "source": [
    "\n",
    "## Embedding the corpus file"
   ],
   "metadata": {
    "collapsed": false
   }
  },
  {
   "cell_type": "code",
   "execution_count": 18,
   "outputs": [],
   "source": [
    "from sentence_transformers import SentenceTransformer\n",
    "\n",
    "model_embedder = SentenceTransformer('./models/msmarco-distilbert-dot-v5')"
   ],
   "metadata": {
    "collapsed": false,
    "pycharm": {
     "name": "#%%\n"
    }
   }
  },
  {
   "cell_type": "code",
   "execution_count": 19,
   "outputs": [
    {
     "data": {
      "text/plain": "Batches:   0%|          | 0/3254 [00:00<?, ?it/s]",
      "application/vnd.jupyter.widget-view+json": {
       "version_major": 2,
       "version_minor": 0,
       "model_id": "793a2f48816948b5bb7454ef1d48f4bd"
      }
     },
     "metadata": {},
     "output_type": "display_data"
    }
   ],
   "source": [
    "corpus_text = corpus['text'].tolist()\n",
    "\n",
    "corpus_embeddings = model_embedder.encode(corpus_text, show_progress_bar=True, convert_to_numpy=True)"
   ],
   "metadata": {
    "collapsed": false,
    "pycharm": {
     "name": "#%%\n"
    }
   }
  },
  {
   "cell_type": "markdown",
   "source": [
    "### Save the embeddings into a pickle file"
   ],
   "metadata": {
    "collapsed": false,
    "pycharm": {
     "name": "#%% md\n"
    }
   }
  },
  {
   "cell_type": "code",
   "execution_count": 20,
   "outputs": [],
   "source": [
    "import pickle\n",
    "\n",
    "with open('./embeddings/embeddings.pkl', \"wb\") as fOut:\n",
    "    pickle.dump({'sentences': corpus_text, 'embeddings': corpus_embeddings}, fOut)"
   ],
   "metadata": {
    "collapsed": false,
    "pycharm": {
     "name": "#%%\n"
    }
   }
  },
  {
   "cell_type": "code",
   "execution_count": 3,
   "outputs": [],
   "source": [
    "import pickle\n",
    "\n",
    "with open('./embeddings/embeddings.pkl', \"rb\") as fIn:\n",
    "    cache_data = pickle.load(fIn)\n",
    "    corpus_sentences = cache_data['sentences']\n",
    "    corpus_embeddings = cache_data['embeddings']"
   ],
   "metadata": {
    "collapsed": false,
    "pycharm": {
     "name": "#%%\n"
    }
   }
  },
  {
   "cell_type": "code",
   "execution_count": null,
   "outputs": [],
   "source": [
    "from db.conn_db import *\n",
    "import pandas as pd\n",
    "\n",
    "f = open(\"db.json\")\n",
    "data = json.load(f)\n",
    "\n",
    "corpus = pd.read_sql_table('hnsw_index', data['connection'] + 'hnsw')\n",
    "corpus"
   ],
   "metadata": {
    "collapsed": false,
    "pycharm": {
     "name": "#%%\n"
    }
   }
  },
  {
   "cell_type": "code",
   "execution_count": null,
   "outputs": [],
   "source": [
    "corpus_links = corpus.link"
   ],
   "metadata": {
    "collapsed": false,
    "pycharm": {
     "name": "#%%\n",
     "is_executing": true
    }
   }
  },
  {
   "cell_type": "code",
   "execution_count": null,
   "outputs": [],
   "source": [
    "pages_embeddings = []\n",
    "\n",
    "for text, link, embedding in zip(corpus_text, corpus_links, corpus_embeddings):\n",
    "    last_link = link\n",
    "    if last_link == link:\n",
    "        pages_embeddings.append((text, link, embedding))\n",
    "        "
   ],
   "metadata": {
    "collapsed": false,
    "pycharm": {
     "name": "#%%\n"
    }
   }
  },
  {
   "cell_type": "markdown",
   "source": [
    "## Create HNSW index"
   ],
   "metadata": {
    "collapsed": false,
    "pycharm": {
     "name": "#%% md\n"
    }
   }
  },
  {
   "cell_type": "code",
   "execution_count": 21,
   "outputs": [],
   "source": [
    "import hnswlib\n",
    "\n",
    "embedding_size = 768\n",
    "top_k_hits = 30\n",
    "len_corpus = len(corpus_embeddings)\n",
    "\n",
    "index_path = \"./hnswlib.bin\"\n",
    "index = hnswlib.Index(space='cosine', dim=embedding_size)"
   ],
   "metadata": {
    "collapsed": false,
    "pycharm": {
     "name": "#%%\n"
    }
   }
  },
  {
   "cell_type": "code",
   "execution_count": 22,
   "outputs": [],
   "source": [
    "index.init_index(max_elements=len_corpus, ef_construction=400, M=64)\n",
    "index.add_items(corpus_embeddings, list(range(len(corpus_embeddings))))\n",
    "index.save_index(index_path)\n",
    "index.set_ef(90)"
   ],
   "metadata": {
    "collapsed": false,
    "pycharm": {
     "name": "#%%\n"
    }
   }
  },
  {
   "cell_type": "code",
   "execution_count": 23,
   "outputs": [
    {
     "data": {
      "text/plain": "104120"
     },
     "execution_count": 23,
     "metadata": {},
     "output_type": "execute_result"
    }
   ],
   "source": [
    "len(corpus_embeddings)"
   ],
   "metadata": {
    "collapsed": false,
    "pycharm": {
     "name": "#%%\n"
    }
   }
  },
  {
   "cell_type": "markdown",
   "source": [
    "## Testing"
   ],
   "metadata": {
    "collapsed": false,
    "pycharm": {
     "name": "#%% md\n"
    }
   }
  },
  {
   "cell_type": "code",
   "execution_count": 1,
   "outputs": [],
   "source": [
    "import hnswlib\n",
    "\n",
    "embedding_size = 768\n",
    "top_k_hits = 50\n",
    "len_corpus = 104120\n",
    "\n",
    "index = hnswlib.Index(space='cosine', dim=embedding_size)\n",
    "\n",
    "index.load_index(\"hnswlib.bin\", max_elements=len_corpus)"
   ],
   "metadata": {
    "collapsed": false,
    "pycharm": {
     "name": "#%%\n"
    }
   }
  },
  {
   "cell_type": "code",
   "execution_count": 2,
   "outputs": [],
   "source": [
    "from sentence_transformers import SentenceTransformer\n",
    "\n",
    "model_embedder = SentenceTransformer('./models/msmarco-distilbert-dot-v5')"
   ],
   "metadata": {
    "collapsed": false,
    "pycharm": {
     "name": "#%%\n"
    }
   }
  },
  {
   "cell_type": "code",
   "execution_count": 3,
   "outputs": [],
   "source": [
    "from sentence_transformers import CrossEncoder\n",
    "\n",
    "model_cross = CrossEncoder('models/ms-marco-MiniLM-L-12-v2')"
   ],
   "metadata": {
    "collapsed": false,
    "pycharm": {
     "name": "#%%\n"
    }
   }
  },
  {
   "cell_type": "code",
   "execution_count": 4,
   "outputs": [],
   "source": [
    "from transformers import pipeline\n",
    "\n",
    "model_sum = './models/t5-base'\n",
    "sum_pipe = pipeline('summarization', model=model_sum, tokenizer=model_sum,\n",
    "                   framework='pt', device=0)"
   ],
   "metadata": {
    "collapsed": false,
    "pycharm": {
     "name": "#%%\n"
    }
   }
  },
  {
   "cell_type": "code",
   "execution_count": 5,
   "outputs": [],
   "source": [
    "from db.conn_db import query_hnsw"
   ],
   "metadata": {
    "collapsed": false,
    "pycharm": {
     "name": "#%%\n"
    }
   }
  },
  {
   "cell_type": "code",
   "execution_count": 17,
   "outputs": [],
   "source": [
    "query = \"is proof of stake safe?\""
   ],
   "metadata": {
    "collapsed": false,
    "pycharm": {
     "name": "#%%\n"
    }
   }
  },
  {
   "cell_type": "code",
   "execution_count": 18,
   "outputs": [
    {
     "name": "stderr",
     "output_type": "stream",
     "text": [
      "Your max_length is set to 300, but you input_length is only 148. You might consider decreasing max_length manually, e.g. summarizer('...', max_length=74)\n"
     ]
    },
    {
     "name": "stdout",
     "output_type": "stream",
     "text": [
      "question: is proof of stake safe?\n",
      "Proof of Stake consensus is not only more environmentally friendly, but it significantly increases transaction throughput while simultaneously reducing transaction fees. of the many cryptocurrencies today, proof of stake is the most popular in a recent period. the probability of users forming the next block in the blockchain is proportional to share units of cryptocurrency belonging to participant and to their total number\n",
      "\n",
      "For more information: \n",
      "https://www.benzinga.com/money/is-cryptocurrency-really-the-future/\n",
      "https://crypto.bi/profit-pos/\n",
      "https://en.bitcoinwiki.org//wiki/Ouroboros\n"
     ]
    }
   ],
   "source": [
    "# Embed the query into vector space\n",
    "question_embedding = model_embedder.encode([query]).tolist()\n",
    "\n",
    "# Search with HNSW for the best passsage\n",
    "corpus_ids, distances = index.knn_query(question_embedding, k=top_k_hits)\n",
    "hits = [{'corpus_id': id, 'score': 1-score} for id, score in zip(corpus_ids[0], distances[0])]\n",
    "\n",
    "# Append the passages\n",
    "passages_id = []\n",
    "\n",
    "for hit in hits[0:top_k_hits]:\n",
    "    passages_id.append(hit['corpus_id'])\n",
    "\n",
    "db_results = query_hnsw(tuple(passages_id))\n",
    "passages = [i[0] for i in db_results]\n",
    "\n",
    "# Use cross encoder to rank the best passages\n",
    "model_inputs = [[query, passage] for passage in passages]\n",
    "scores = model_cross.predict(model_inputs)\n",
    "\n",
    "results = [{'input': inp, 'score': score} for inp, score in zip(model_inputs, scores)]\n",
    "results = sorted(results, key=lambda x: x['score'], reverse=True)\n",
    "\n",
    "# Append the best contexts\n",
    "context = []\n",
    "links = set()\n",
    "\n",
    "for hit in results[0:3]:\n",
    "    context.append(hit['input'][1])\n",
    "    for i in db_results:\n",
    "        if i[0] == hit['input'][1]:\n",
    "            links.add(i[1])\n",
    "\n",
    "# Summarize the context\n",
    "answer = sum_pipe(\n",
    "    f\"question: {query} context: {' '.join(context)}\",\n",
    "    num_beams=4,\n",
    "    do_sample=True,\n",
    "    temperature=1.6,\n",
    "    min_length=60,\n",
    "    max_length=300\n",
    ")\n",
    "print('question: ' + query +'\\n' + answer[0]['summary_text'].replace(' .', '.'))\n",
    "\n",
    "print(\"\\nFor more information: \")\n",
    "for link in links:\n",
    "    print(link)"
   ],
   "metadata": {
    "collapsed": false,
    "pycharm": {
     "name": "#%%\n"
    }
   }
  },
  {
   "cell_type": "code",
   "execution_count": null,
   "outputs": [],
   "source": [],
   "metadata": {
    "collapsed": false,
    "pycharm": {
     "name": "#%%\n"
    }
   }
  }
 ],
 "metadata": {
  "kernelspec": {
   "display_name": "Python 3",
   "language": "python",
   "name": "python3"
  },
  "language_info": {
   "codemirror_mode": {
    "name": "ipython",
    "version": 2
   },
   "file_extension": ".py",
   "mimetype": "text/x-python",
   "name": "python",
   "nbconvert_exporter": "python",
   "pygments_lexer": "ipython2",
   "version": "2.7.6"
  }
 },
 "nbformat": 4,
 "nbformat_minor": 0
}