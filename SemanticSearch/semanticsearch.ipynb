{
 "cells": [
  {
   "cell_type": "markdown",
   "source": [
    "# Build the Semantic Search Index\n",
    "According to the <a href=\"https://www.sbert.net/examples/applications/semantic-search/README.html\" target=\"_blank\">sbert</a> documentations I will use MSMarco model:\n",
    "\n",
    "*\"For asymmetric semantic search, you usually have a short query (like a question or some keywords) and you want to find a longer paragraph answering the query. An example would be a query like “What is Python” and you wand to find the paragraph “Python is an interpreted, high-level and general-purpose programming language. Python’s design philosophy …”. For asymmetric tasks, flipping the query and the entries in your corpus usually does not make sense.\"\n",
    "\"Suitable models for asymmetric semantic search: Pre-Trained MS MARCO Models\"*\n",
    "\n",
    "**In the folder, Training-Transformers I built a notebook to finetune this model**"
   ],
   "metadata": {
    "collapsed": false
   }
  },
  {
   "cell_type": "code",
   "execution_count": 3,
   "outputs": [],
   "source": [
    "corpus = [\n",
    "    'A mining pool is a joint group of cryptocurrency miners who combine their computational resources over a network to strengthen the probability of finding a block or otherwise successfully mining for cryptocurrency.',\n",
    "    'Individually, participants in a mining pool contribute their processing power toward the effort of finding a block. If the pool is successful in these efforts, they receive a reward, typically in the form of the associated cryptocurrency.',\n",
    "    'Mining is the process of extracting useful materials from the earth. Some examples of substances that are mined include coal, gold, or iron ore. Iron ore is the material from which the metal iron is produced.',\n",
    "    'A cryptocurrency is a digital or virtual currency that is secured by cryptography, which makes it nearly impossible to counterfeit or double-spend.',\n",
    "    'Bitcoin, which was made available to the public in 2009, remains the most widely-traded coin',\n",
    "    'The best crypto credit cards',\n",
    "    'Best Crypto & Blockchain Right Now',\n",
    "    'There is no single best cryptocurrency, but there are best cryptocurrencies for certain use cases. For example, Bitcoin is the best cryptocurrency to use as a reserve asset because it has the most widespread adoption and a finite supply.',\n",
    "    'The best cryptocurrency exchanges are those that offer secure, easy-to-use platforms, with high trading volumes, and on which customers can trade multiple cryptos and pay in multiple payment options.',\n",
    "    'Another one of the easiest cryptocurrencies to mine is Vertcoin.',\n",
    "    'In 2021, Litecoin is still considered one of the best cryptocurrencies, despite the strong competition.',\n",
    "    'The best cryptocurrency to buy right now in 2021 is Ethereum.',\n",
    "    'Following are some of the best cryptocurrencies to Mine with GPU:',\n",
    "    'It’s valuable the same way Bitcoin is valuable but in a more personable and practical way that involves more humans and less computer machines. ',\n",
    "    'So I personally think Bitcoin is valuable as a measure of value, but it’s not very effective in terms of a cryptocurrency. There has been many better versions created which process faster, are more affordable to transfer, and are safer. ',\n",
    "    'First and foremost, Bitcoin has value due to the same reason the paper and digital cash does – it’s a handy form of money commonly accepted by people. It is used to transfer value and buy or sell things. Yet, unlike the US dollars, whose value and legal status are enforced by the government, Bitcoin’s value comes from its code, infrastructure, scarcity, and adoption.'\n",
    "]\n",
    "\n",
    "# Query sentences:\n",
    "queries = ['what is mining pool', 'what is the best cryptocurrency', 'which crypto is worth the investment?', 'best way to mine minerals', 'what makes bitcoin valuable']"
   ],
   "metadata": {
    "collapsed": false,
    "pycharm": {
     "name": "#%%\n"
    }
   }
  },
  {
   "cell_type": "markdown",
   "source": [
    "## Testing MSMarco model"
   ],
   "metadata": {
    "collapsed": false
   }
  },
  {
   "cell_type": "code",
   "execution_count": 4,
   "outputs": [],
   "source": [
    "from sentence_transformers import SentenceTransformer, util"
   ],
   "metadata": {
    "collapsed": false,
    "pycharm": {
     "name": "#%%\n"
    }
   }
  },
  {
   "cell_type": "code",
   "execution_count": 5,
   "outputs": [
    {
     "name": "stdout",
     "output_type": "stream",
     "text": [
      "\n",
      "\n",
      "======================\n",
      "\n",
      "\n",
      "Query: what is mining pool \n",
      "\n",
      "A mining pool is a joint group of cryptocurrency miners who combine their computational resources over a network to strengthen the probability of finding a block or otherwise successfully mining for cryptocurrency. (Score: 0.9194)\n",
      "Individually, participants in a mining pool contribute their processing power toward the effort of finding a block. If the pool is successful in these efforts, they receive a reward, typically in the form of the associated cryptocurrency. (Score: 0.8327)\n",
      "Mining is the process of extracting useful materials from the earth. Some examples of substances that are mined include coal, gold, or iron ore. Iron ore is the material from which the metal iron is produced. (Score: 0.8253)\n",
      "Another one of the easiest cryptocurrencies to mine is Vertcoin. (Score: 0.7226)\n",
      "Following are some of the best cryptocurrencies to Mine with GPU: (Score: 0.7210)\n",
      "\n",
      "\n",
      "======================\n",
      "\n",
      "\n",
      "Query: what is the best cryptocurrency \n",
      "\n",
      "The best crypto credit cards (Score: 0.9253)\n",
      "Best Crypto & Blockchain Right Now (Score: 0.8959)\n",
      "Following are some of the best cryptocurrencies to Mine with GPU: (Score: 0.8779)\n",
      "There is no single best cryptocurrency, but there are best cryptocurrencies for certain use cases. For example, Bitcoin is the best cryptocurrency to use as a reserve asset because it has the most widespread adoption and a finite supply. (Score: 0.8688)\n",
      "The best cryptocurrency to buy right now in 2021 is Ethereum. (Score: 0.8675)\n",
      "\n",
      "\n",
      "======================\n",
      "\n",
      "\n",
      "Query: which crypto is worth the investment? \n",
      "\n",
      "The best crypto credit cards (Score: 0.8188)\n",
      "There is no single best cryptocurrency, but there are best cryptocurrencies for certain use cases. For example, Bitcoin is the best cryptocurrency to use as a reserve asset because it has the most widespread adoption and a finite supply. (Score: 0.8076)\n",
      "The best cryptocurrency exchanges are those that offer secure, easy-to-use platforms, with high trading volumes, and on which customers can trade multiple cryptos and pay in multiple payment options. (Score: 0.7964)\n",
      "So I personally think Bitcoin is valuable as a measure of value, but it’s not very effective in terms of a cryptocurrency. There has been many better versions created which process faster, are more affordable to transfer, and are safer.  (Score: 0.7889)\n",
      "Best Crypto & Blockchain Right Now (Score: 0.7884)\n",
      "\n",
      "\n",
      "======================\n",
      "\n",
      "\n",
      "Query: best way to mine minerals \n",
      "\n",
      "Mining is the process of extracting useful materials from the earth. Some examples of substances that are mined include coal, gold, or iron ore. Iron ore is the material from which the metal iron is produced. (Score: 0.8179)\n",
      "Following are some of the best cryptocurrencies to Mine with GPU: (Score: 0.7806)\n",
      "Another one of the easiest cryptocurrencies to mine is Vertcoin. (Score: 0.7723)\n",
      "The best crypto credit cards (Score: 0.7700)\n",
      "A mining pool is a joint group of cryptocurrency miners who combine their computational resources over a network to strengthen the probability of finding a block or otherwise successfully mining for cryptocurrency. (Score: 0.7652)\n",
      "\n",
      "\n",
      "======================\n",
      "\n",
      "\n",
      "Query: what makes bitcoin valuable \n",
      "\n",
      "It’s valuable the same way Bitcoin is valuable but in a more personable and practical way that involves more humans and less computer machines.  (Score: 0.8956)\n",
      "So I personally think Bitcoin is valuable as a measure of value, but it’s not very effective in terms of a cryptocurrency. There has been many better versions created which process faster, are more affordable to transfer, and are safer.  (Score: 0.8815)\n",
      "First and foremost, Bitcoin has value due to the same reason the paper and digital cash does – it’s a handy form of money commonly accepted by people. It is used to transfer value and buy or sell things. Yet, unlike the US dollars, whose value and legal status are enforced by the government, Bitcoin’s value comes from its code, infrastructure, scarcity, and adoption. (Score: 0.8739)\n",
      "There is no single best cryptocurrency, but there are best cryptocurrencies for certain use cases. For example, Bitcoin is the best cryptocurrency to use as a reserve asset because it has the most widespread adoption and a finite supply. (Score: 0.8318)\n",
      "Bitcoin, which was made available to the public in 2009, remains the most widely-traded coin (Score: 0.8124)\n"
     ]
    }
   ],
   "source": [
    "embedder = SentenceTransformer('msmarco-distilbert-dot-v5')\n",
    "\n",
    "#Encode all sentences\n",
    "corpus_embeddings = embedder.encode(corpus)\n",
    "\n",
    "# Find the closest 5 sentences of the corpus for each query sentence based on cosine similarity\n",
    "top_k = min(5, len(corpus))\n",
    "for query in queries:\n",
    "    query_embedding = embedder.encode(query, convert_to_tensor=True)\n",
    "\n",
    "    hits = util.semantic_search(query_embedding, corpus_embeddings, top_k=5)\n",
    "    hits = hits[0]      #Get the hits for the first query\n",
    "\n",
    "    print(\"\\n\\n======================\\n\\n\")\n",
    "    print(\"Query:\", query, \"\\n\")\n",
    "\n",
    "    for hit in hits:\n",
    "        print(corpus[hit['corpus_id']], \"(Score: {:.4f})\".format(hit['score']))"
   ],
   "metadata": {
    "collapsed": false,
    "pycharm": {
     "name": "#%%\n"
    }
   }
  },
  {
   "cell_type": "markdown",
   "source": [
    "## Data cleaning and preparation"
   ],
   "metadata": {
    "collapsed": false,
    "pycharm": {
     "name": "#%% md\n"
    }
   }
  },
  {
   "cell_type": "code",
   "execution_count": 6,
   "outputs": [
    {
     "ename": "FileNotFoundError",
     "evalue": "[Errno 2] No such file or directory: 'db.json'",
     "output_type": "error",
     "traceback": [
      "\u001B[1;31m---------------------------------------------------------------------------\u001B[0m",
      "\u001B[1;31mFileNotFoundError\u001B[0m                         Traceback (most recent call last)",
      "\u001B[1;32m~\\AppData\\Local\\Temp/ipykernel_9296/502225655.py\u001B[0m in \u001B[0;36m<module>\u001B[1;34m\u001B[0m\n\u001B[0;32m      2\u001B[0m \u001B[1;32mimport\u001B[0m \u001B[0mpandas\u001B[0m \u001B[1;32mas\u001B[0m \u001B[0mpd\u001B[0m\u001B[1;33m\u001B[0m\u001B[1;33m\u001B[0m\u001B[0m\n\u001B[0;32m      3\u001B[0m \u001B[1;33m\u001B[0m\u001B[0m\n\u001B[1;32m----> 4\u001B[1;33m \u001B[0mf\u001B[0m \u001B[1;33m=\u001B[0m \u001B[0mopen\u001B[0m\u001B[1;33m(\u001B[0m\u001B[1;34m\"db.json\"\u001B[0m\u001B[1;33m)\u001B[0m\u001B[1;33m\u001B[0m\u001B[1;33m\u001B[0m\u001B[0m\n\u001B[0m\u001B[0;32m      5\u001B[0m \u001B[0mdata\u001B[0m \u001B[1;33m=\u001B[0m \u001B[0mjson\u001B[0m\u001B[1;33m.\u001B[0m\u001B[0mload\u001B[0m\u001B[1;33m(\u001B[0m\u001B[0mf\u001B[0m\u001B[1;33m)\u001B[0m\u001B[1;33m\u001B[0m\u001B[1;33m\u001B[0m\u001B[0m\n\u001B[0;32m      6\u001B[0m \u001B[1;33m\u001B[0m\u001B[0m\n",
      "\u001B[1;31mFileNotFoundError\u001B[0m: [Errno 2] No such file or directory: 'db.json'"
     ]
    }
   ],
   "source": [
    "from db.conn_db import *\n",
    "import pandas as pd\n",
    "\n",
    "f = open(\"db.json\")\n",
    "data = json.load(f)\n",
    "\n",
    "corpus = pd.read_sql_table('index', data['connection'] + 'hnsw')\n",
    "corpus"
   ],
   "metadata": {
    "collapsed": false,
    "pycharm": {
     "name": "#%%\n"
    }
   }
  },
  {
   "cell_type": "code",
   "execution_count": null,
   "outputs": [],
   "source": [
    "# Drop duplicates, reset index and remove index row\n",
    "corpus = corpus.drop_duplicates(subset=['text'])\n",
    "corpus.reset_index(level=0, inplace=True)\n",
    "corpus = corpus.iloc[:,1:]\n",
    "corpus"
   ],
   "metadata": {
    "collapsed": false,
    "pycharm": {
     "name": "#%%\n"
    }
   }
  },
  {
   "cell_type": "code",
   "execution_count": null,
   "outputs": [],
   "source": [
    "# function to remove \\n and \\t\n",
    "def clean(text):\n",
    "    text = text.replace('\\n', '')\n",
    "    text = text.replace('\\t', '')\n",
    "\n",
    "    return text"
   ],
   "metadata": {
    "collapsed": false,
    "pycharm": {
     "name": "#%%\n"
    }
   }
  },
  {
   "cell_type": "code",
   "execution_count": null,
   "outputs": [],
   "source": [
    "# use map to apply the fuction to all rows in the text column\n",
    "corpus['text'] = corpus['text'].map(clean)\n",
    "corpus['id'] = corpus.index\n",
    "corpus"
   ],
   "metadata": {
    "collapsed": false,
    "pycharm": {
     "name": "#%%\n"
    }
   }
  },
  {
   "cell_type": "markdown",
   "source": [
    "### Store it in a database to use it as index"
   ],
   "metadata": {
    "collapsed": false
   }
  },
  {
   "cell_type": "code",
   "execution_count": null,
   "outputs": [],
   "source": [
    "corpus.to_sql(name='hnsw_index', con=db_connection('hnsw'), index=False, chunksize=500)"
   ],
   "metadata": {
    "collapsed": false,
    "pycharm": {
     "name": "#%%\n"
    }
   }
  },
  {
   "cell_type": "markdown",
   "source": [
    "\n",
    "## Embedding the corpus file"
   ],
   "metadata": {
    "collapsed": false
   }
  },
  {
   "cell_type": "code",
   "execution_count": 18,
   "outputs": [],
   "source": [
    "from sentence_transformers import SentenceTransformer\n",
    "\n",
    "model_embedder = SentenceTransformer('./models/msmarco-distilbert-dot-v5')"
   ],
   "metadata": {
    "collapsed": false,
    "pycharm": {
     "name": "#%%\n"
    }
   }
  },
  {
   "cell_type": "code",
   "execution_count": 19,
   "outputs": [
    {
     "data": {
      "text/plain": "Batches:   0%|          | 0/3254 [00:00<?, ?it/s]",
      "application/vnd.jupyter.widget-view+json": {
       "version_major": 2,
       "version_minor": 0,
       "model_id": "793a2f48816948b5bb7454ef1d48f4bd"
      }
     },
     "metadata": {},
     "output_type": "display_data"
    }
   ],
   "source": [
    "corpus_text = corpus['text'].tolist()\n",
    "\n",
    "corpus_embeddings = model_embedder.encode(corpus_text, show_progress_bar=True, convert_to_numpy=True)"
   ],
   "metadata": {
    "collapsed": false,
    "pycharm": {
     "name": "#%%\n"
    }
   }
  },
  {
   "cell_type": "markdown",
   "source": [
    "### Save the embeddings into a pickle file"
   ],
   "metadata": {
    "collapsed": false,
    "pycharm": {
     "name": "#%% md\n"
    }
   }
  },
  {
   "cell_type": "code",
   "execution_count": 20,
   "outputs": [],
   "source": [
    "# Save it\n",
    "import pickle\n",
    "\n",
    "with open('./embeddings/embeddings.pkl', \"wb\") as fOut:\n",
    "    pickle.dump({'sentences': corpus_text, 'embeddings': corpus_embeddings}, fOut)"
   ],
   "metadata": {
    "collapsed": false,
    "pycharm": {
     "name": "#%%\n"
    }
   }
  },
  {
   "cell_type": "code",
   "execution_count": 3,
   "outputs": [],
   "source": [
    "# Import it\n",
    "import pickle\n",
    "\n",
    "with open('./embeddings/embeddings.pkl', \"rb\") as fIn:\n",
    "    cache_data = pickle.load(fIn)\n",
    "    corpus_sentences = cache_data['sentences']\n",
    "    corpus_embeddings = cache_data['embeddings']"
   ],
   "metadata": {
    "collapsed": false,
    "pycharm": {
     "name": "#%%\n"
    }
   }
  },
  {
   "cell_type": "markdown",
   "source": [
    "## Create HNSW index\n",
    "https://github.com/nmslib/hnswlib/blob/master/README.md"
   ],
   "metadata": {
    "collapsed": false,
    "pycharm": {
     "name": "#%% md\n"
    }
   }
  },
  {
   "cell_type": "code",
   "execution_count": 21,
   "outputs": [],
   "source": [
    "import hnswlib\n",
    "\n",
    "embedding_size = 768\n",
    "top_k_hits = 50\n",
    "len_corpus = len(corpus_embeddings)\n",
    "\n",
    "# We use Inner Product (dot-product) as Index. We will normalize our vectors to unit length, then is Inner Product equal to cosine similarity\n",
    "index_path = \"./hnswlib.bin\"\n",
    "index = hnswlib.Index(space='cosine', dim=embedding_size)"
   ],
   "metadata": {
    "collapsed": false,
    "pycharm": {
     "name": "#%%\n"
    }
   }
  },
  {
   "cell_type": "code",
   "execution_count": 22,
   "outputs": [],
   "source": [
    "# Create the HNSWLIB index\n",
    "# ef_construction - controls index search speed/build speed tradeoff\n",
    "# M - is tightly connected with internal dimensionality of the data. Strongly affects memory consumption (~M)\n",
    "# Higher M leads to higher accuracy/run_time at fixed ef/efConstruction\n",
    "index.init_index(max_elements=len_corpus, ef_construction=400, M=64)\n",
    "\n",
    "# Then we train the index to find a suitable clustering\n",
    "index.add_items(corpus_embeddings, list(range(len(corpus_embeddings))))\n",
    "index.save_index(index_path)\n",
    "\n",
    "# Controlling the recall by setting ef:\n",
    "index.set_ef(90) # ef should always be > top_k_hits"
   ],
   "metadata": {
    "collapsed": false,
    "pycharm": {
     "name": "#%%\n"
    }
   }
  },
  {
   "cell_type": "code",
   "execution_count": 23,
   "outputs": [
    {
     "data": {
      "text/plain": "104120"
     },
     "execution_count": 23,
     "metadata": {},
     "output_type": "execute_result"
    }
   ],
   "source": [
    "len(corpus_embeddings)"
   ],
   "metadata": {
    "collapsed": false,
    "pycharm": {
     "name": "#%%\n"
    }
   }
  },
  {
   "cell_type": "markdown",
   "source": [
    "## Testing"
   ],
   "metadata": {
    "collapsed": false,
    "pycharm": {
     "name": "#%% md\n"
    }
   }
  },
  {
   "cell_type": "code",
   "execution_count": 1,
   "outputs": [],
   "source": [
    "import hnswlib\n",
    "\n",
    "embedding_size = 768\n",
    "top_k_hits = 50\n",
    "len_corpus = 104120\n",
    "\n",
    "index = hnswlib.Index(space='cosine', dim=embedding_size)\n",
    "\n",
    "index.load_index(\"hnswlib.bin\", max_elements=len_corpus)"
   ],
   "metadata": {
    "collapsed": false,
    "pycharm": {
     "name": "#%%\n"
    }
   }
  },
  {
   "cell_type": "code",
   "execution_count": 2,
   "outputs": [],
   "source": [
    "from sentence_transformers import SentenceTransformer\n",
    "\n",
    "model_embedder = SentenceTransformer('./models/msmarco-distilbert-dot-v5')"
   ],
   "metadata": {
    "collapsed": false,
    "pycharm": {
     "name": "#%%\n"
    }
   }
  },
  {
   "cell_type": "code",
   "execution_count": 3,
   "outputs": [],
   "source": [
    "from sentence_transformers import CrossEncoder\n",
    "\n",
    "model_cross = CrossEncoder('models/ms-marco-MiniLM-L-12-v2')"
   ],
   "metadata": {
    "collapsed": false,
    "pycharm": {
     "name": "#%%\n"
    }
   }
  },
  {
   "cell_type": "code",
   "execution_count": 4,
   "outputs": [],
   "source": [
    "from transformers import pipeline\n",
    "\n",
    "model_sum = './models/t5-base'\n",
    "sum_pipe = pipeline('summarization', model=model_sum, tokenizer=model_sum,\n",
    "                   framework='pt', device=0)"
   ],
   "metadata": {
    "collapsed": false,
    "pycharm": {
     "name": "#%%\n"
    }
   }
  },
  {
   "cell_type": "code",
   "execution_count": 5,
   "outputs": [],
   "source": [
    "from db.conn_db import query_hnsw"
   ],
   "metadata": {
    "collapsed": false,
    "pycharm": {
     "name": "#%%\n"
    }
   }
  },
  {
   "cell_type": "code",
   "execution_count": 17,
   "outputs": [],
   "source": [
    "query = \"is proof of stake safe?\""
   ],
   "metadata": {
    "collapsed": false,
    "pycharm": {
     "name": "#%%\n"
    }
   }
  },
  {
   "cell_type": "code",
   "execution_count": 18,
   "outputs": [
    {
     "name": "stderr",
     "output_type": "stream",
     "text": [
      "Your max_length is set to 300, but you input_length is only 148. You might consider decreasing max_length manually, e.g. summarizer('...', max_length=74)\n"
     ]
    },
    {
     "name": "stdout",
     "output_type": "stream",
     "text": [
      "question: is proof of stake safe?\n",
      "Proof of Stake consensus is not only more environmentally friendly, but it significantly increases transaction throughput while simultaneously reducing transaction fees. of the many cryptocurrencies today, proof of stake is the most popular in a recent period. the probability of users forming the next block in the blockchain is proportional to share units of cryptocurrency belonging to participant and to their total number\n",
      "\n",
      "For more information: \n",
      "https://www.benzinga.com/money/is-cryptocurrency-really-the-future/\n",
      "https://crypto.bi/profit-pos/\n",
      "https://en.bitcoinwiki.org//wiki/Ouroboros\n"
     ]
    }
   ],
   "source": [
    "# Embed the query into vector space\n",
    "question_embedding = model_embedder.encode([query]).tolist()\n",
    "\n",
    "# Search with HNSW for the best passsage\n",
    "corpus_ids, distances = index.knn_query(question_embedding, k=top_k_hits)\n",
    "hits = [{'corpus_id': id, 'score': 1-score} for id, score in zip(corpus_ids[0], distances[0])]\n",
    "\n",
    "# Append the passages\n",
    "passages_id = []\n",
    "\n",
    "for hit in hits[0:top_k_hits]:\n",
    "    passages_id.append(hit['corpus_id'])\n",
    "\n",
    "db_results = query_hnsw(tuple(passages_id))\n",
    "passages = [i[0] for i in db_results]\n",
    "\n",
    "# Use cross encoder to rank the best passages\n",
    "model_inputs = [[query, passage] for passage in passages]\n",
    "scores = model_cross.predict(model_inputs)\n",
    "\n",
    "results = [{'input': inp, 'score': score} for inp, score in zip(model_inputs, scores)]\n",
    "results = sorted(results, key=lambda x: x['score'], reverse=True)\n",
    "\n",
    "# Append the best contexts\n",
    "context = []\n",
    "links = set()\n",
    "\n",
    "for hit in results[0:3]:\n",
    "    context.append(hit['input'][1])\n",
    "    for i in db_results:\n",
    "        if i[0] == hit['input'][1]:\n",
    "            links.add(i[1])\n",
    "\n",
    "# Summarize the context\n",
    "answer = sum_pipe(\n",
    "    f\"question: {query} context: {' '.join(context)}\",\n",
    "    num_beams=4,\n",
    "    do_sample=True,\n",
    "    temperature=1.6,\n",
    "    min_length=60,\n",
    "    max_length=300\n",
    ")\n",
    "print('question: ' + query +'\\n' + answer[0]['summary_text'].replace(' .', '.'))\n",
    "\n",
    "print(\"\\nFor more information: \")\n",
    "for link in links:\n",
    "    print(link)"
   ],
   "metadata": {
    "collapsed": false,
    "pycharm": {
     "name": "#%%\n"
    }
   }
  }
 ],
 "metadata": {
  "kernelspec": {
   "display_name": "Python 3",
   "language": "python",
   "name": "python3"
  },
  "language_info": {
   "codemirror_mode": {
    "name": "ipython",
    "version": 2
   },
   "file_extension": ".py",
   "mimetype": "text/x-python",
   "name": "python",
   "nbconvert_exporter": "python",
   "pygments_lexer": "ipython2",
   "version": "2.7.6"
  }
 },
 "nbformat": 4,
 "nbformat_minor": 0
}