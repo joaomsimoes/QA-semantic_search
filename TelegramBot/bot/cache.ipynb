{
 "cells": [
  {
   "cell_type": "code",
   "execution_count": 1,
   "outputs": [
    {
     "name": "stderr",
     "output_type": "stream",
     "text": [
      "[nltk_data] Downloading package punkt to\n",
      "[nltk_data]     C:\\Users\\joaom\\AppData\\Roaming\\nltk_data...\n",
      "[nltk_data]   Package punkt is already up-to-date!\n"
     ]
    }
   ],
   "source": [
    "import requests\n",
    "from conn_db import *"
   ],
   "metadata": {
    "collapsed": false,
    "pycharm": {
     "name": "#%%\n"
    }
   }
  },
  {
   "cell_type": "code",
   "execution_count": 2,
   "metadata": {
    "collapsed": true
   },
   "outputs": [],
   "source": [
    "with open('queries.txt', 'r') as fIn:\n",
    "    queries = fIn.read().splitlines()"
   ]
  },
  {
   "cell_type": "code",
   "execution_count": 3,
   "outputs": [
    {
     "data": {
      "text/plain": "['what is the best cryptocurrency',\n 'what makes bitcoin valuable',\n 'how to mine bitcoins with pc',\n 'how to buy pi cryptocurrency',\n 'how to purchase dogecoin',\n 'why is shiba going up',\n 'can i buy dogecoin on etrade',\n 'how to cash out bitcoin',\n 'shiba price',\n 'best way to make money in crypto',\n 'how much is dogecoin worth usd',\n 'how to use coinbase usd wallet',\n 'how to mine bitcoins',\n 'is cryptocurrency a good investment 2020',\n 'why is dogecoin not going up',\n 'which coin to invest in',\n 'top gpu for mining',\n 'how to mine bitcoin solo',\n 'crypto wallet explained',\n 'is it smart to invest in bitcoin',\n 'why is dogecoin dropping today',\n 'what is a shiba inu dog',\n 'will dogecoin ever hit $10',\n 'how to mine btc',\n 'how to use ledger wallet',\n 'z wallet',\n 'how to buy bitcoin gold',\n 'how many cardano coins are there',\n 'how many shiba inu coins are there',\n 'what is dogecoin stock',\n 'crypto wallet vs exchange',\n 'how to mine 1 bitcoin a day',\n 'what is the best crypto wallet',\n 'how much is shiba inu',\n 'how to buy dogecoin on coinbase',\n 'is dogecoin worthless',\n 'how to buy crypto on venmo',\n 'bitcoin wallet security',\n 'what could dogecoin be worth',\n 'how to buy crypto art',\n 'what app to buy dogecoin',\n 'is ethereum better than bitcoin',\n 'fastest gpu for mining',\n 'how to buy dogecoin fidelity',\n 'cryptocurrency future',\n 'what is a ledger in cryptocurrency',\n 'how to make money with dogecoin',\n 'how to cash out bitcoin anonymously',\n 'best way to buy cardano',\n 'which crypto wallet supports the most coins',\n 'how to dodge in zelda',\n 'how to turn dogecoin into cash',\n 'crypto wallet dogecoin',\n 'where to buy cardano coin',\n 'what is cardano coin',\n 'r/cardano',\n 'how to buy bitcoin with visa gift card',\n 'how to transfer bitcoin from coinbase',\n 'how to transfer bitcoin from cash app',\n 'how to buy dogecoin on fidelity',\n 'what is a shiba inu puppy',\n 'best crypto coin to invest in 2021',\n 'how to buy gmr crypto',\n 'what is cardano blockchain',\n 'how to buy bitcoin electrum',\n 'why trade cryptocurrency',\n 'how to make money with cryptocurrency 2020',\n 'how to make money with your own cryptocurrency',\n '1 shib to usd',\n 'what is the best cryptocurrency to invest in 2021',\n 'how to buy crypto on webull',\n 'how to mine bitcoin cash',\n 'how to sell dogecoin',\n 'where to buy cryptocurrency in usa',\n 'is crypto the future',\n 'will cryptocurrency be the future',\n 'best crypto youtube',\n 'how to buy cardano in usa',\n 'what are dogecoins',\n 'why is bitcoin worth so much',\n 'easiest coin to mine with cpu',\n 'how to make money from creating a cryptocurrency',\n 'best coin to mine in 2021',\n 'is cryptocurrency the future',\n 'how much is 100 dogecoin worth',\n 'how to buy bitcoins at atm',\n 'how to cash out on bitcoin',\n 'what is dogecoin stock price',\n 'how to mine 1 bitcoin a month',\n 'how much is dogecoin worth today',\n 'how to buy cryptocurrency',\n 'crypto wallet with lowest fees',\n 'how to mine bitcoin with your pc',\n 'how do physical bitcoin wallets work',\n 'how to mine for bitcoin',\n 'is crypto the future of money',\n 'how to purchase cryptocurrency',\n 'how to buy crypto with credit card',\n 'should i buy or sell dogecoin',\n 'ethereum compared to bitcoin',\n 'why is cryptocurrency legal',\n 'is xrp a good investment 2020',\n 'how to transfer bitcoin to coinbase',\n 'most profitable coin to mine 2021',\n 'best gpu for mining 2020',\n 'how to buy bitcoin in india',\n 'coinbase wallet security',\n 'how to buy cryptokitties',\n 'which crypto should i buy',\n 'what is the best crypto exchange',\n 'how to buy bitcoins with cash app',\n 'how to make a lot of money with cryptocurrency',\n 'how much is shiba inu coin',\n 'how much is dogecoin right now',\n 'mobile wallets crypto',\n 'what is dogecoin backed by',\n 'where is dogecoin traded',\n 'best coin investment 2021',\n 'is ledger live a wallet',\n 'how to cash out millions in bitcoin',\n 'how to cash out bitcoins',\n 'how to buy 1 bitcoin',\n 'what is the purpose of bitcoin mining',\n 'what is shiba coin',\n 'how to make money from crypto',\n 'how to buy crypto with paypal',\n 'my shiba inu',\n 'how to buy yummy crypto',\n 'what is the future of cryptocurrency',\n 'what is bitcoin wallet',\n 'where to buy dogecoin coinbase',\n 'how much is 1 dogecoin worth',\n 'how to buy cardano crypto',\n 'is crypto halal',\n 'how to exchange bitcoin for usd',\n 'best value gpu for mining',\n 'how profitable is crypto mining',\n 'which cryptocurrency is best to buy',\n 'where to buy cardano',\n 'how is ethereum different than bitcoin',\n 'how to buy crypto in texas',\n 'how to buy cardano ada',\n 'where is my crypto wallet',\n 'how to buy bitcoin reddit',\n 'best graphics card for mining',\n 'how to buy crypto with venmo',\n 'what is dogecoin worth',\n 'best mining gpu for the money',\n 'how much to buy dogecoin',\n 'most profitable crypto to mine 2021',\n 'r/dogecoin',\n 'best gpu for mining litecoin',\n 'which is the best cryptocurrency to invest in 2021',\n 'how to buy with bitcoin',\n 'how to buy bitcoins online with debit card',\n 'how many dogecoins are there',\n 'how to mine bitcoin for free',\n 'why mine bitcoins',\n 'what is dogecoin at right now',\n 'is cryptocurrency a good investment reddit',\n 'ameritrade bitcoin',\n 'how to buy dogecoin in nevada',\n 'what platform to buy dogecoin',\n 'how to cash out millions in cryptocurrency',\n 'crypto wallet key',\n 'what is dogecoin reddit',\n 'is it smart to buy cryptocurrency',\n 'what is dogecoin trading at',\n 'how to buy dogecoin on etrade',\n 'how to buy bitcoins with cash at walmart',\n \"why you shouldn't invest in cryptocurrency\",\n 'how to buy vet crypto',\n 'how to buy bitcoin and ethereum',\n 'how to buy bitcoin with prepaid card',\n 'how to make money with cryptocurrency reddit',\n 'what is the best cryptocurrency to invest in',\n 'does dogecoin have a future',\n 'what is cardano',\n 'shiba inu dog',\n 'best way to cash out crypto',\n 'how to buy crypto in india',\n 'what is cardano crypto',\n 'does tron have a future',\n 'how do cryptocurrency wallets work',\n 'how do crypto hardware wallets work',\n 'is doge a good investment',\n 'what is shiba inu trading at',\n 'bitcoin youtube',\n 'which bitcoin wallet is best',\n 'how to make money fast with cryptocurrency',\n 'is it worth investing in cryptocurrency',\n 'how to buy dogecoin in usa',\n 'why cardano',\n 'how to buy bitcoins with a credit card',\n 'how to buy cardano cryptocurrency',\n 'best gpu for mining 2018',\n 'how to transfer bitcoin to usd',\n 'how to mine bitcoins on pc',\n 'how to make money with cryptocurrency 2021',\n 'how to exchange btc to usd',\n 'how to mine bitcoin fast',\n 'crypto wallet providers',\n 'how to buy cmc crypto 200',\n 'how to mine bitcoins on android',\n 'is matic a good investment',\n 'how to buy crypto',\n 'good graphics card for mining',\n 'how to make money on crypto',\n 'how to buy bitcoin through fidelity',\n 'how to buy dogecoin with paypal',\n 'best gpu for mining 2019',\n 'how to redeem bitcoin for cash',\n 'crypto wallet for dogecoin',\n 'where to buy cardano crypto',\n 'how does pi cryptocurrency work',\n 'where to buy cardano ada',\n 'shiba inu value',\n 'how to buy bitcoin without verification',\n 'how to buy crypto under 18',\n 'best gpu for crypto mining',\n 'how to mine bitcoin 2017',\n 'how much is dogecoin stock',\n 'we are authorized to buy cryptocurrency in all countries',\n 'what is the best cryptocurrency to mine right now',\n 'how to mine bitcoin mac',\n 'why is dogecoin',\n 'how do i make money with cryptocurrency',\n 'is cryptocurrency the future of money',\n 'most profitable coins to mine 2021',\n 'crypto wallet hacked',\n 'is cryptocurrency a good investment',\n 'the best coin to invest in 2021',\n 'best coin collecting software 2021',\n 'will bitcoin go up in 2021',\n 'good gpu for mining',\n 'how does bitcoin get its value',\n 'will dogecoin go up like bitcoin',\n 'how to buy a cryptocurrency',\n 'how to buy bitcoins in usa',\n 'how to buy cardano on binance',\n 'how to buy leash crypto',\n 'what does it mean to mine bitcoins',\n 'how to buy dogecoin in texas',\n 'how do crypto wallets work',\n 'how to buy crypto currencies',\n 'what is cardano reddit',\n 'what is shiba inu crypto',\n 'where to buy bitcoins in canada',\n 'how to buy bitcoins with cash',\n 'crypto wallet recovery',\n 'are shiba inus dangerous',\n 'how to buy bitcoins with paypal',\n 'who can buy bitcoins',\n 'can dogecoin reach $1',\n 'how to buy bitcoins instantly',\n 'how to buy bitcoins from cash app',\n 'how to sell dogecoin for cash',\n 'how to buy bitcoins with credit card',\n 'how to cash out large amounts of bitcoin',\n 'how much is dogecoin worth right now',\n 'crypto wallet backup',\n 'what is shiba',\n 'how to buy cardano in new york',\n 'what is dogecoin',\n 'how to buy bitcoin robinhood',\n 'best gpu for mining reddit',\n 'what is shiba swap',\n 'how to invest in cryptocurrency for beginners',\n 'how to buy bitcoins uk',\n 'sheepadoodle',\n 'buying cardano',\n 'can you buy dogecoin',\n 'making money with crypto',\n 'wallet cryptocurrency',\n 'how much to buy cryptocurrency',\n 'how to transfer bitcoin from coinbase to blockchain',\n 'i want to buy cryptocurrency',\n 'how to make money in crypto',\n 'queen of sheba',\n 'what is a bitcoin mine',\n 'is ethereum a good investment',\n 'cardano price prediction 2021',\n 'how much are dogecoins worth',\n 'top 10 cryptocurrency 2021',\n 'how to mine bitcoin from home',\n 'how to transfer bitcoin from coinbase to electrum',\n 'how to make money with cryptokitties',\n 'how to buy cryptopunks',\n 'is it safe to buy dogecoin',\n 'best coin to invest in 2020',\n 'how to cash out of bitcoin',\n 'how to buy bitcoins anonymously',\n 'how to cash out bitcoins without paying taxes',\n 'why you should not invest in cryptocurrency',\n 'how to buy dogecoin with usd',\n 'how to buy dogecoin on webull',\n 'does robinhood have crypto wallet',\n 'which cryptocurrency should i buy',\n 'why not to invest in cryptocurrency',\n 'how to purchase cardano',\n 'how to buy bitcoin etf',\n 'i want to buy bitcoins',\n 'when to buy crypto',\n 'where to buy dogecoin us',\n 'why is dogecoin dropping',\n 'where to buy dogecoin reddit',\n 'what is a ledger wallet',\n 'is ethereum mining worth it',\n 'is investing in crypto worth it',\n 'what is a shiba inu worth in adopt me',\n 'can you cash out bitcoin for real money',\n 'how to transfer bitcoin from coinbase to kraken',\n 'how to buy ada crypto',\n 'what is cardano ada',\n 'how to create a digital wallet for cryptocurrency',\n 'how to mine 1 bitcoin per week',\n 'what is dogecoin market cap',\n 'what is dogecoin at today',\n 'what is a digital wallet',\n 'profitable coins to mine 2021',\n 'what can i buy with bitcoins',\n 'can you mine bitcoins',\n 'how to get a digital wallet for cryptocurrency',\n 'how to say shiba inu',\n 'how much will dogecoin be worth',\n 'the best gpu for mining',\n 'how to buy crypto on kucoin',\n 'what is dogecoin price',\n 'is dogecoin worth investing in',\n 'crypto wallet vs coinbase',\n 'how to buy bitcoins with a debit card',\n 'shib x',\n 'what is shiba coin used for',\n 'what is the future of crypto',\n 'r/shiba',\n 'how to buy crypto coins',\n 'dogecoins',\n 'how much cryptocurrency should i buy',\n 'what makes bitcoin worth money',\n 'how to buy dogecoin stock',\n 'how many dogecoins are left',\n 'what can you buy with bitcoin 2020',\n 'how to make money with crypto',\n 'ethereum better than bitcoin',\n 'how to transfer bitcoin from coinbase to gdax',\n 'why are shiba inus so aggressive',\n 'making money with cryptocurrency',\n 'is dash cryptocurrency a good investment',\n 'why is ethereum better than bitcoin',\n 'is it smart to invest in dogecoin',\n 'best coin to invest in 2021',\n 'how to buy dogecoin reddit',\n 'best cheap coin to invest in 2021',\n 'transfer bitcoin to coinbase',\n 'how much is dogecoin worth',\n 'how to mine bitcoin gold',\n 'what is shiba token',\n 'how long does it take to cash out bitcoin',\n 'toshiba',\n 'when to buy dogecoin',\n 'why is cryptocurrency the future',\n 'where to buy holo crypto',\n 'how to buy dogecoin',\n 'bitcoin versus ethereum',\n 'why is bitcoin halving important',\n 'is crypto a good investment 2020',\n 'what are dogecoins used for',\n 'how to buy bitcoins without id',\n 'can i use my 401k to buy cryptocurrency',\n 'how to buy helium crypto',\n 'how to mine zcash with gpu',\n 'how to buy bitcoins on coinbase',\n 'how many shiba coins are there',\n 'what will dogecoin be worth in 2030',\n 'where to buy bitcoins near me',\n 'crypto how to make money',\n 'best way to cash out bitcoin',\n 'how to buy bitcoins with debit card',\n 'is cryptocurrency really the future',\n 'wallet name crypto',\n 'mobile digital wallet',\n 'how does a crypto wallet work',\n 'crypto wallet with interest',\n 'ethereum v bitcoin',\n 'how to buy cardano coin',\n 'is crypto really the future',\n 'how to buy dogecoin on robinhood',\n 'best coin to stake 2021',\n 'best way to make money with cryptocurrency',\n 'is pi cryptocurrency real',\n 'what coins does ledger support',\n 'crypto wallet sign up bonus 2021',\n 'why not to invest in bitcoin',\n 'what makes cryptocurrency valuable',\n 'is xrp a good investment',\n 'how to buy bitcoin youtube',\n 'how do bitcoin wallets work',\n 'why did dogecoin drop',\n 'how to withdraw bitcoins to cash',\n 'how to make money with cryptocurrency',\n 'what is the purpose of cryptocurrency',\n 'how to buy crypto on binance',\n 'is investing in crypto a good idea',\n 'how to buy bitcoin price',\n 'how much should i invest in dogecoin',\n 'how to buy bitcoin online',\n 'how to use crypto wallet',\n 'o sahiba',\n 'what is the future of cryptocurrency in 2021',\n 'how to make money from cryptocurrency',\n 'how to open a crypto wallet',\n 'how to buy cryptocurrency in canada',\n 'what is shiba crypto',\n 'how to buy cardano in the us',\n 'how much dogecoin worth',\n 'what are the best coins to invest in',\n 'is cryptocurrency a safe investment',\n '6 card wallet',\n 'who is the best crypto trader',\n 'will cryptocurrency replace fiat currency',\n 'which cryptocurrency is best',\n 'wazirx coin price',\n 'crypto wallet fees',\n 'best gpu for mining ravencoin 2021',\n 'crypto wallet with most coins',\n 'how to secure a bitcoin wallet',\n 'how to buy crypto anonymously',\n 'what is the best cryptocurrency to buy',\n 'what is the best cryptocurrency to invest in 2020',\n 'crypto wallets',\n 'best cryptocurrency to invest in 2021',\n 'how to buy crypto on robinhood',\n 'which is the best cryptocurrency',\n 'what is shiba inu',\n 'is grt crypto a good investment',\n 'what is a digital wallet for cryptocurrency',\n 'how to make money with compound crypto',\n '2 shiba inus',\n 'how to trade bitcoin for usd',\n 'how to send bitcoin from coinbase to kraken',\n 'create a crypto wallet',\n 'how to buy dogecoins',\n 'how to.mine bitcoin',\n \"what's the best gpu for mining\",\n 'how to mine bitcoin diamond',\n 'how to buy cardano',\n 'what will dogecoin be worth',\n 'best coin to buy for investment',\n 'what is shiba inu coin price',\n 'best gpu for mining zcash',\n 'kou shibasaki',\n 'ways to make money in crypto',\n 'best coin to mine 2021',\n 'can you still mine bitcoins',\n 'how to buy bitcoins',\n 'how to day trade crypto for beginners',\n 'most profitable cryptocurrency to mine 2021',\n 'what is dogecoin used for',\n 'is crypto a good investment',\n 'how to buy karma crypto',\n 'how to transfer bitcoin from coinbase to exodus',\n 'what is the cheapest cryptocurrency to buy right now',\n 'how to buy bitcoins paypal',\n 'what is dogecoin going to do',\n 'transfer btc to coinbase',\n 'how many cryptocurrencies are there 2020',\n 'what is the best gpu for mining',\n 'are shiba inus loyal',\n 'how to mine bitcoins windows',\n 'what is a crypto ledger',\n 'crypto wallet balance',\n 'shibazuke',\n 'crypto wallet security',\n 'how to buy crypto tokens',\n 'how to invest in cardano',\n 'how to buy cardano on coinbase',\n 'i want to buy dogecoin',\n 'how to transfer bitcoin from coinbase to trezor',\n 'what is shiba inu coin',\n 'what is the cryptocurrency of the future',\n 'crypto wallet regulation',\n 'how to buy bitcoins online',\n 'how to exchange bitcoin to usd',\n 'how to make a bitcoin miner',\n 'crypto wallet under 18',\n 'profitable crypto mining 2021',\n 'is cardano a good investment',\n 'will dogecoin ever be like bitcoin']"
     },
     "execution_count": 3,
     "metadata": {},
     "output_type": "execute_result"
    }
   ],
   "source": [
    "queries"
   ],
   "metadata": {
    "collapsed": false,
    "pycharm": {
     "name": "#%%\n"
    }
   }
  },
  {
   "cell_type": "code",
   "execution_count": null,
   "outputs": [],
   "source": [
    "for query in queries:\n",
    "    try:\n",
    "        answer = requests.get('http://localhost:8000/', params={'query': str(query)}).json()\n",
    "        push_cache(query, answer[0], answer[1])\n",
    "    except:\n",
    "        pass"
   ],
   "metadata": {
    "collapsed": false,
    "pycharm": {
     "name": "#%%\n",
     "is_executing": true
    }
   }
  },
  {
   "cell_type": "code",
   "execution_count": null,
   "outputs": [],
   "source": [],
   "metadata": {
    "collapsed": false,
    "pycharm": {
     "name": "#%%\n"
    }
   }
  }
 ],
 "metadata": {
  "kernelspec": {
   "display_name": "Python 3",
   "language": "python",
   "name": "python3"
  },
  "language_info": {
   "codemirror_mode": {
    "name": "ipython",
    "version": 2
   },
   "file_extension": ".py",
   "mimetype": "text/x-python",
   "name": "python",
   "nbconvert_exporter": "python",
   "pygments_lexer": "ipython2",
   "version": "2.7.6"
  }
 },
 "nbformat": 4,
 "nbformat_minor": 0
}